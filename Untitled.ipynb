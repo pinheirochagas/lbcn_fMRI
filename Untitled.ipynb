{
 "cells": [
  {
   "cell_type": "code",
   "execution_count": 17,
   "metadata": {},
   "outputs": [],
   "source": [
    "from nilearn import plotting, datasets \n",
    "import cortex\n",
    "import numpy as np\n",
    "\n",
    "\n"
   ]
  },
  {
   "cell_type": "code",
   "execution_count": 15,
   "metadata": {},
   "outputs": [
    {
     "ename": "ValueError",
     "evalue": "The input type is not recognized. Valid inputs are one of the following file formats: .gii, .gii.gz, Freesurfer specific files such as .orig, .pial, .sphere, .white, .inflated or a list containing two Numpy arrays [vertex coordinates, face indices]",
     "output_type": "error",
     "traceback": [
      "\u001b[0;31m---------------------------------------------------------------------------\u001b[0m",
      "\u001b[0;31mValueError\u001b[0m                                Traceback (most recent call last)",
      "\u001b[0;32m<ipython-input-15-06c8e0d6a354>\u001b[0m in \u001b[0;36m<module>\u001b[0;34m\u001b[0m\n\u001b[0;32m----> 1\u001b[0;31m \u001b[0mview\u001b[0m \u001b[0;34m=\u001b[0m \u001b[0mplotting\u001b[0m\u001b[0;34m.\u001b[0m\u001b[0mview_surf\u001b[0m\u001b[0;34m(\u001b[0m\u001b[0msurf_mesh\u001b[0m\u001b[0;34m=\u001b[0m\u001b[0;34m{\u001b[0m\u001b[0;34m'/Users/pinheirochagas/nilearn_data/fsaverage/fsaverage/pial_left.gii'\u001b[0m\u001b[0;34m,\u001b[0m \u001b[0;34m'/Users/pinheirochagas/nilearn_data/fsaverage/fsaverage/pial_right.gii'\u001b[0m\u001b[0;34m}\u001b[0m\u001b[0;34m)\u001b[0m\u001b[0;34m\u001b[0m\u001b[0m\n\u001b[0m",
      "\u001b[0;32m~/.local/lib/python3.7/site-packages/nilearn/plotting/html_surface.py\u001b[0m in \u001b[0;36mview_surf\u001b[0;34m(surf_mesh, surf_map, bg_map, threshold, cmap, black_bg, vmax, symmetric_cmap)\u001b[0m\n\u001b[1;32m    251\u001b[0m \u001b[0;34m\u001b[0m\u001b[0m\n\u001b[1;32m    252\u001b[0m     \"\"\"\n\u001b[0;32m--> 253\u001b[0;31m     \u001b[0msurf_mesh\u001b[0m \u001b[0;34m=\u001b[0m \u001b[0msurface\u001b[0m\u001b[0;34m.\u001b[0m\u001b[0mload_surf_mesh\u001b[0m\u001b[0;34m(\u001b[0m\u001b[0msurf_mesh\u001b[0m\u001b[0;34m)\u001b[0m\u001b[0;34m\u001b[0m\u001b[0m\n\u001b[0m\u001b[1;32m    254\u001b[0m     \u001b[0;32mif\u001b[0m \u001b[0msurf_map\u001b[0m \u001b[0;32mis\u001b[0m \u001b[0;32mNone\u001b[0m\u001b[0;34m:\u001b[0m\u001b[0;34m\u001b[0m\u001b[0m\n\u001b[1;32m    255\u001b[0m         \u001b[0msurf_map\u001b[0m \u001b[0;34m=\u001b[0m \u001b[0mnp\u001b[0m\u001b[0;34m.\u001b[0m\u001b[0mones\u001b[0m\u001b[0;34m(\u001b[0m\u001b[0mlen\u001b[0m\u001b[0;34m(\u001b[0m\u001b[0msurf_mesh\u001b[0m\u001b[0;34m[\u001b[0m\u001b[0;36m0\u001b[0m\u001b[0;34m]\u001b[0m\u001b[0;34m)\u001b[0m\u001b[0;34m)\u001b[0m\u001b[0;34m\u001b[0m\u001b[0m\n",
      "\u001b[0;32m~/.local/lib/python3.7/site-packages/nilearn/surface/surface.py\u001b[0m in \u001b[0;36mload_surf_mesh\u001b[0;34m(surf_mesh)\u001b[0m\n\u001b[1;32m    708\u001b[0m                               '%r elements.') % len(surf_mesh))\n\u001b[1;32m    709\u001b[0m     \u001b[0;32melse\u001b[0m\u001b[0;34m:\u001b[0m\u001b[0;34m\u001b[0m\u001b[0m\n\u001b[0;32m--> 710\u001b[0;31m         raise ValueError('The input type is not recognized. '\n\u001b[0m\u001b[1;32m    711\u001b[0m                          \u001b[0;34m'Valid inputs are one of the following file '\u001b[0m\u001b[0;34m\u001b[0m\u001b[0m\n\u001b[1;32m    712\u001b[0m                          \u001b[0;34m'formats: .gii, .gii.gz, Freesurfer specific files '\u001b[0m\u001b[0;34m\u001b[0m\u001b[0m\n",
      "\u001b[0;31mValueError\u001b[0m: The input type is not recognized. Valid inputs are one of the following file formats: .gii, .gii.gz, Freesurfer specific files such as .orig, .pial, .sphere, .white, .inflated or a list containing two Numpy arrays [vertex coordinates, face indices]"
     ]
    }
   ],
   "source": [
    "view = plotting.view_surf(surf_mesh={'/Users/pinheirochagas/nilearn_data/fsaverage/fsaverage/pial_left.gii', '/Users/pinheirochagas/nilearn_data/fsaverage/fsaverage/pial_right.gii'}) "
   ]
  },
  {
   "cell_type": "code",
   "execution_count": 19,
   "metadata": {},
   "outputs": [],
   "source": [
    "? plotting.view_surf"
   ]
  },
  {
   "cell_type": "code",
   "execution_count": null,
   "metadata": {},
   "outputs": [],
   "source": []
  },
  {
   "cell_type": "code",
   "execution_count": 171,
   "metadata": {},
   "outputs": [],
   "source": [
    "vertices, tri = cortex.db.get_surf('C19_004', 'fiducial', 'both', merge=True)"
   ]
  },
  {
   "cell_type": "code",
   "execution_count": 168,
   "metadata": {},
   "outputs": [],
   "source": [
    "vertices = np.vstack([vertices_lh, vertices_rh])\n",
    "tri = np.vstack([tri_lh, tri_rh])\n"
   ]
  },
  {
   "cell_type": "code",
   "execution_count": 172,
   "metadata": {},
   "outputs": [],
   "source": [
    "a = [vertices, tri]\n"
   ]
  },
  {
   "cell_type": "code",
   "execution_count": 165,
   "metadata": {},
   "outputs": [
    {
     "data": {
      "text/plain": [
       "array([-14.231725 , -14.647242 , -14.6107435, ...,   1.5549192,\n",
       "         1.4704175,   1.9478831], dtype=float32)"
      ]
     },
     "execution_count": 165,
     "metadata": {},
     "output_type": "execute_result"
    }
   ],
   "source": [
    "a[0][:,0]"
   ]
  },
  {
   "cell_type": "code",
   "execution_count": 184,
   "metadata": {},
   "outputs": [
    {
     "name": "stderr",
     "output_type": "stream",
     "text": [
      "/Users/pinheirochagas/.local/lib/python3.7/site-packages/nilearn/plotting/js_plotting_utils.py:201: UserWarning: you have specified symmetric_cmap=False but the map contains negative values; setting symmetric_cmap to True\n",
      "  warnings.warn('you have specified symmetric_cmap=False '\n"
     ]
    }
   ],
   "source": [
    "view = plotting.view_surf(a, surf_map = c_map, symmetric_cmap=False, vmax=0.5, cmap='Blues')\n",
    "\n",
    "\n",
    "\n",
    "\n"
   ]
  },
  {
   "cell_type": "code",
   "execution_count": 57,
   "metadata": {},
   "outputs": [
    {
     "data": {
      "text/plain": [
       "(280490, 3)"
      ]
     },
     "execution_count": 57,
     "metadata": {},
     "output_type": "execute_result"
    }
   ],
   "source": [
    "vertices = np.vstack([vertices_lh, vertices_rh])\n",
    "vertices.shape"
   ]
  },
  {
   "cell_type": "code",
   "execution_count": 182,
   "metadata": {},
   "outputs": [],
   "source": [
    "view.open_in_browser() "
   ]
  },
  {
   "cell_type": "code",
   "execution_count": 185,
   "metadata": {},
   "outputs": [],
   "source": [
    "view.save_as_html(\"/Users/pinheirochagas/Desktop/surface_plot.html\") "
   ]
  },
  {
   "cell_type": "code",
   "execution_count": 87,
   "metadata": {},
   "outputs": [],
   "source": [
    "? plotting.view_surf"
   ]
  },
  {
   "cell_type": "code",
   "execution_count": 146,
   "metadata": {},
   "outputs": [],
   "source": [
    "c = cortex.db.get_surfinfo('C19_004', 'curvature')"
   ]
  },
  {
   "cell_type": "code",
   "execution_count": 148,
   "metadata": {},
   "outputs": [],
   "source": [
    "c_map =  np.hstack([c.left, c.right])"
   ]
  },
  {
   "cell_type": "code",
   "execution_count": 119,
   "metadata": {},
   "outputs": [],
   "source": [
    "v_rgb_2 = cortex.VertexRGB(vertices_lh[:,0], vertices_lh[:,1], vertices_lh[:,2], 'C19_004')"
   ]
  },
  {
   "cell_type": "code",
   "execution_count": 110,
   "metadata": {},
   "outputs": [
    {
     "data": {
      "text/plain": [
       "(1, 280490, 4)"
      ]
     },
     "execution_count": 110,
     "metadata": {},
     "output_type": "execute_result"
    }
   ],
   "source": [
    "v_rgb.vertices.shape"
   ]
  },
  {
   "cell_type": "code",
   "execution_count": 121,
   "metadata": {},
   "outputs": [
    {
     "data": {
      "text/plain": [
       "(140080, 3)"
      ]
     },
     "execution_count": 121,
     "metadata": {},
     "output_type": "execute_result"
    }
   ],
   "source": [
    "vertices_lh.shape"
   ]
  },
  {
   "cell_type": "code",
   "execution_count": 144,
   "metadata": {},
   "outputs": [
    {
     "data": {
      "text/plain": [
       "[array([0.26113978, 0.29471526, 0.21140446, ..., 0.14494726, 0.2360595 ,\n",
       "        0.22535732], dtype=float32),\n",
       " array([0.23667662, 0.25664464, 0.17672504, ..., 0.4039863 , 0.4381114 ,\n",
       "        0.18327685], dtype=float32)]"
      ]
     },
     "execution_count": 144,
     "metadata": {},
     "output_type": "execute_result"
    }
   ],
   "source": [
    "c"
   ]
  },
  {
   "cell_type": "code",
   "execution_count": 132,
   "metadata": {},
   "outputs": [
    {
     "data": {
      "text/plain": [
       "-2.6046891"
      ]
     },
     "execution_count": 132,
     "metadata": {},
     "output_type": "execute_result"
    }
   ],
   "source": [
    "np.min(c.left)"
   ]
  },
  {
   "cell_type": "code",
   "execution_count": 126,
   "metadata": {},
   "outputs": [],
   "source": [
    "? plotting.view_surf"
   ]
  },
  {
   "cell_type": "code",
   "execution_count": 170,
   "metadata": {},
   "outputs": [],
   "source": [
    "? cortex.db.get_surf"
   ]
  },
  {
   "cell_type": "code",
   "execution_count": 186,
   "metadata": {},
   "outputs": [],
   "source": [
    "? plotting.view_markers"
   ]
  },
  {
   "cell_type": "code",
   "execution_count": null,
   "metadata": {},
   "outputs": [],
   "source": []
  }
 ],
 "metadata": {
  "kernelspec": {
   "display_name": "Python 3",
   "language": "python",
   "name": "python3"
  },
  "language_info": {
   "codemirror_mode": {
    "name": "ipython",
    "version": 3
   },
   "file_extension": ".py",
   "mimetype": "text/x-python",
   "name": "python",
   "nbconvert_exporter": "python",
   "pygments_lexer": "ipython3",
   "version": "3.7.0"
  }
 },
 "nbformat": 4,
 "nbformat_minor": 2
}
